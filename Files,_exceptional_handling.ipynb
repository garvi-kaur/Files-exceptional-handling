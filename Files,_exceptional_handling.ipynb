{
  "nbformat": 4,
  "nbformat_minor": 0,
  "metadata": {
    "colab": {
      "provenance": []
    },
    "kernelspec": {
      "name": "python3",
      "display_name": "Python 3"
    },
    "language_info": {
      "name": "python"
    }
  },
  "cells": [
    {
      "cell_type": "markdown",
      "source": [
        "Files, exceptional handling"
      ],
      "metadata": {
        "id": "WShQD-l6bHbw"
      }
    },
    {
      "cell_type": "markdown",
      "source": [
        "\n",
        "\n",
        "**1. What is the difference between interpreted and compiled languages?**\n",
        "**Answer:**\n",
        "Interpreted languages execute code line-by-line at runtime (e.g., Python), whereas compiled languages translate the entire source code into machine code before execution (e.g., C, C++). Interpreted code is generally slower but more flexible, while compiled code is faster but requires recompilation for changes.\n",
        "\n",
        "---\n",
        "\n",
        "**2. What is exception handling in Python?**\n",
        "**Answer:**\n",
        "Exception handling in Python is a mechanism that allows you to manage errors or unexpected events during program execution using `try`, `except`, `else`, and `finally` blocks.\n",
        "\n",
        "---\n",
        "\n",
        "**3. What is the purpose of the finally block in exception handling?**\n",
        "**Answer:**\n",
        "The `finally` block is used to define clean-up actions that must be executed under all circumstances, whether an exception occurs or not.\n",
        "\n",
        "---\n",
        "\n",
        "**4. What is logging in Python?**\n",
        "**Answer:**\n",
        "Logging in Python refers to the process of recording events, errors, or informational messages that occur during the execution of a program, using the built-in `logging` module.\n",
        "\n",
        "---\n",
        "\n",
        "**5. What is the significance of the `__del__` method in Python?**\n",
        "**Answer:**\n",
        "The `__del__` method is a destructor in Python. It is called when an object is about to be destroyed, typically used for clean-up actions like closing files or releasing resources.\n",
        "\n",
        "---\n",
        "\n",
        "**6. What is the difference between import and from ... import in Python?**\n",
        "**Answer:**\n",
        "`import module` loads the entire module, while `from module import name` imports only specific attributes or functions from the module into the current namespace.\n",
        "\n",
        "---\n",
        "\n",
        "**7. How can you handle multiple exceptions in Python?**\n",
        "**Answer:**\n",
        "You can handle multiple exceptions by using multiple `except` blocks or by grouping exceptions in a single block using parentheses:\n",
        "\n",
        "```python\n",
        "try:\n",
        "    # code\n",
        "except (TypeError, ValueError):\n",
        "    # handle multiple exceptions\n",
        "```\n",
        "\n",
        "---\n",
        "\n",
        "**8. What is the purpose of the with statement when handling files in Python?**\n",
        "**Answer:**\n",
        "The `with` statement ensures proper acquisition and release of resources. It automatically closes the file after the block of code is executed, even if an exception occurs.\n",
        "\n",
        "---\n",
        "\n",
        "**9. What is the difference between multithreading and multiprocessing?**\n",
        "**Answer:**\n",
        "Multithreading runs multiple threads within a single process, sharing memory. Multiprocessing runs multiple processes with separate memory space, offering better performance for CPU-bound tasks.\n",
        "\n",
        "---\n",
        "\n",
        "**10. What are the advantages of using logging in a program?**\n",
        "**Answer:**\n",
        "\n",
        "* Helps in debugging by providing runtime insights\n",
        "* Tracks events and errors without interrupting program flow\n",
        "* Enables configurable logging levels (e.g., DEBUG, INFO, ERROR)\n",
        "\n",
        "---\n",
        "\n",
        "**11. What is memory management in Python?**\n",
        "**Answer:**\n",
        "Memory management in Python refers to the process of allocating and deallocating memory during program execution. It is handled automatically using reference counting and garbage collection.\n",
        "\n",
        "---\n",
        "\n",
        "**12. What are the basic steps involved in exception handling in Python?**\n",
        "**Answer:**\n",
        "\n",
        "1. Use a `try` block to write code that may raise an exception\n",
        "2. Use one or more `except` blocks to handle specific exceptions\n",
        "3. Optionally use `else` for code that runs if no exception occurs\n",
        "4. Use `finally` for cleanup actions\n",
        "\n",
        "---\n",
        "\n",
        "**13. Why is memory management important in Python?**\n",
        "**Answer:**\n",
        "Efficient memory management ensures optimal use of resources, prevents memory leaks, and improves application performance and stability.\n",
        "\n",
        "---\n",
        "\n",
        "**14. What is the role of try and except in exception handling?**\n",
        "**Answer:**\n",
        "The `try` block contains code that may cause an exception. The `except` block defines how the program should respond to specific exceptions, preventing crashes.\n",
        "\n",
        "---\n",
        "\n",
        "**15. How does Python’s garbage collection system work?**\n",
        "**Answer:**\n",
        "Python uses reference counting and a cyclic garbage collector to identify and collect objects that are no longer in use, freeing up memory.\n",
        "\n",
        "---\n",
        "\n",
        "**16. What is the purpose of the else block in exception handling?**\n",
        "**Answer:**\n",
        "The `else` block executes if the `try` block completes without raising any exceptions. It is used for code that should run only if no error occurs.\n",
        "\n",
        "---\n",
        "\n",
        "**17. What are the common logging levels in Python?**\n",
        "**Answer:**\n",
        "\n",
        "* DEBUG\n",
        "* INFO\n",
        "* WARNING\n",
        "* ERROR\n",
        "* CRITICAL\n",
        "\n",
        "---\n",
        "\n",
        "**18. What is the difference between os.fork() and multiprocessing in Python?**\n",
        "**Answer:**\n",
        "`os.fork()` is a Unix-specific method to create child processes. `multiprocessing` is a Python module that provides a portable and higher-level API for process-based parallelism.\n",
        "\n",
        "---\n",
        "\n",
        "**19. What is the importance of closing a file in Python?**\n",
        "**Answer:**\n",
        "Closing a file ensures that all buffered data is written to disk and system resources associated with the file are released.\n",
        "\n",
        "---\n",
        "\n",
        "**20. What is the difference between file.read() and file.readline() in Python?**\n",
        "**Answer:**\n",
        "`file.read()` reads the entire file content at once, while `file.readline()` reads one line at a time from the file.\n",
        "\n",
        "---\n",
        "\n",
        "**21. What is the logging module in Python used for?**\n",
        "**Answer:**\n",
        "The `logging` module is used to track events, record error messages, and generate logs for debugging and monitoring purposes.\n",
        "\n",
        "---\n",
        "\n",
        "**22. What is the os module in Python used for in file handling?**\n",
        "**Answer:**\n",
        "The `os` module provides functions to interact with the operating system, such as file/directory manipulation, path handling, and process control.\n",
        "\n",
        "---\n",
        "\n",
        "**23. What are the challenges associated with memory management in Python?**\n",
        "**Answer:**\n",
        "\n",
        "* Detecting and managing cyclic references\n",
        "* Avoiding memory leaks in long-running applications\n",
        "* Managing memory usage in multi-threaded or large-data programs\n",
        "\n",
        "---\n",
        "\n",
        "**24. How do you raise an exception manually in Python?**\n",
        "**Answer:**\n",
        "Use the `raise` keyword followed by an exception:\n",
        "\n",
        "```python\n",
        "raise ValueError(\"Invalid input\")\n",
        "```\n",
        "\n",
        "---\n",
        "\n",
        "**25. Why is it important to use multithreading in certain applications?**\n",
        "**Answer:**\n",
        "Multithreading is useful for I/O-bound tasks, such as network communication or file reading, allowing better responsiveness and performance without blocking the main thread.\n",
        "\n",
        "---\n",
        "\n",
        "\n"
      ],
      "metadata": {
        "id": "BWkZIjQBbQyu"
      }
    },
    {
      "cell_type": "code",
      "source": [
        "# 1. How can you open a file for writing in Python and write a string to it?\n",
        "with open(\"example.txt\", \"w\") as file:\n",
        "    file.write(\"Hello, this is a sample text.\")\n"
      ],
      "metadata": {
        "id": "NMY8lp4SbcBe"
      },
      "execution_count": 1,
      "outputs": []
    },
    {
      "cell_type": "code",
      "source": [
        "# 2. Write a Python program to read the contents of a file and print each line.\n",
        "with open(\"example.txt\", \"r\") as file:\n",
        "    for line in file:\n",
        "        print(line.strip())\n"
      ],
      "metadata": {
        "colab": {
          "base_uri": "https://localhost:8080/"
        },
        "id": "aThZPk5VcDs3",
        "outputId": "5854db95-864c-472f-d6fe-ff618c86ad48"
      },
      "execution_count": 2,
      "outputs": [
        {
          "output_type": "stream",
          "name": "stdout",
          "text": [
            "Hello, this is a sample text.\n"
          ]
        }
      ]
    },
    {
      "cell_type": "code",
      "source": [
        "# 3. How would you handle a case where the file doesn't exist while trying to open it for reading?\n",
        "try:\n",
        "    with open(\"nonexistent.txt\", \"r\") as file:\n",
        "        print(file.read())\n",
        "except FileNotFoundError:\n",
        "    print(\"The file does not exist.\")\n"
      ],
      "metadata": {
        "colab": {
          "base_uri": "https://localhost:8080/"
        },
        "id": "zY1Wa-atcD56",
        "outputId": "c6b87dda-7c44-46f8-913e-bc18f8cc3b9e"
      },
      "execution_count": 3,
      "outputs": [
        {
          "output_type": "stream",
          "name": "stdout",
          "text": [
            "The file does not exist.\n"
          ]
        }
      ]
    },
    {
      "cell_type": "code",
      "source": [
        "# 4. Write a Python script that reads from one file and writes its content to another file.\n",
        "\n",
        "# Create the source file for testing\n",
        "with open(\"source.txt\", \"w\") as f:\n",
        "    f.write(\"Line 1: Hello from source file!\\n\")\n",
        "    f.write(\"Line 2: This is the second line.\\n\")\n",
        "\n",
        " Write a Python script that reads from one file and writes its content to another file.\n",
        "with open(\"source.txt\", \"r\") as source, open(\"destination.txt\", \"w\") as dest:\n",
        "    for line in source:\n",
        "        dest.write(line)\n",
        "\n",
        "# Verify the contents of the destination file\n",
        "with open(\"destination.txt\", \"r\") as file:\n",
        "    print(file.read())\n"
      ],
      "metadata": {
        "colab": {
          "base_uri": "https://localhost:8080/"
        },
        "id": "u9lctJu2cEEq",
        "outputId": "e02f6ab2-5f13-4913-e841-8f3f1ed858ca"
      },
      "execution_count": 25,
      "outputs": [
        {
          "output_type": "stream",
          "name": "stdout",
          "text": [
            "Line 1: Hello from source file!\n",
            "Line 2: This is the second line.\n",
            "\n"
          ]
        }
      ]
    },
    {
      "cell_type": "code",
      "source": [
        "# 5. How would you catch and handle division by zero error in Python?\n",
        "try:\n",
        "    result = 10 / 0\n",
        "except ZeroDivisionError:\n",
        "    print(\"Division by zero is not allowed.\")\n"
      ],
      "metadata": {
        "colab": {
          "base_uri": "https://localhost:8080/"
        },
        "id": "ZQ8bJkW6cEQ-",
        "outputId": "11510c71-f509-431c-c3dc-bf2c67035bdb"
      },
      "execution_count": 5,
      "outputs": [
        {
          "output_type": "stream",
          "name": "stdout",
          "text": [
            "Division by zero is not allowed.\n"
          ]
        }
      ]
    },
    {
      "cell_type": "code",
      "source": [
        "# 6. Write a Python program that logs an error message to a log file when a division by zero exception occurs.\n",
        "import logging\n",
        "\n",
        "logging.basicConfig(filename='error.log', level=logging.ERROR)\n",
        "\n",
        "try:\n",
        "    result = 10 / 0\n",
        "except ZeroDivisionError as e:\n",
        "    logging.error(\"Division by zero error: %s\", e)\n"
      ],
      "metadata": {
        "colab": {
          "base_uri": "https://localhost:8080/"
        },
        "id": "-R4Wh9ZYcEbO",
        "outputId": "3856ad9f-0ded-43f7-82b7-0225c3d06434"
      },
      "execution_count": 6,
      "outputs": [
        {
          "output_type": "stream",
          "name": "stderr",
          "text": [
            "ERROR:root:Division by zero error: division by zero\n"
          ]
        }
      ]
    },
    {
      "cell_type": "code",
      "source": [
        "# 7. How do you log information at different levels (INFO, ERROR, WARNING) in Python using the logging module?\n",
        "import logging\n",
        "\n",
        "logging.basicConfig(level=logging.DEBUG, filename='app.log')\n",
        "\n",
        "logging.info(\"This is an info message.\")\n",
        "logging.warning(\"This is a warning message.\")\n",
        "logging.error(\"This is an error message.\")\n"
      ],
      "metadata": {
        "colab": {
          "base_uri": "https://localhost:8080/"
        },
        "id": "mpe2UVPycEnC",
        "outputId": "21a1680f-cf18-4a7c-d960-5b8fc644c35c"
      },
      "execution_count": 7,
      "outputs": [
        {
          "output_type": "stream",
          "name": "stderr",
          "text": [
            "WARNING:root:This is a warning message.\n",
            "ERROR:root:This is an error message.\n"
          ]
        }
      ]
    },
    {
      "cell_type": "code",
      "source": [
        "# 8. Write a program to handle a file opening error using exception handling.\n",
        "try:\n",
        "    with open(\"unknown.txt\", \"r\") as file:\n",
        "        content = file.read()\n",
        "except FileNotFoundError:\n",
        "    print(\"Error: File not found.\")\n"
      ],
      "metadata": {
        "colab": {
          "base_uri": "https://localhost:8080/"
        },
        "id": "slWgBdNpcEw2",
        "outputId": "07d811d2-6764-441a-f772-3d027ee2a151"
      },
      "execution_count": 8,
      "outputs": [
        {
          "output_type": "stream",
          "name": "stdout",
          "text": [
            "Error: File not found.\n"
          ]
        }
      ]
    },
    {
      "cell_type": "code",
      "source": [
        "# 9. How can you read a file line by line and store its content in a list in Python?\n",
        "with open(\"example.txt\", \"r\") as file:\n",
        "    lines = [line.strip() for line in file]\n",
        "print(lines)\n"
      ],
      "metadata": {
        "colab": {
          "base_uri": "https://localhost:8080/"
        },
        "id": "yzrFT8HocE5u",
        "outputId": "1475c48c-572e-4609-a3b2-a613c67543b6"
      },
      "execution_count": 9,
      "outputs": [
        {
          "output_type": "stream",
          "name": "stdout",
          "text": [
            "['Hello, this is a sample text.']\n"
          ]
        }
      ]
    },
    {
      "cell_type": "code",
      "source": [
        "# 10. How can you append data to an existing file in Python?\n",
        "with open(\"example.txt\", \"a\") as file:\n",
        "    file.write(\"\\nThis line is appended.\")\n"
      ],
      "metadata": {
        "id": "PhJmm3JJcFFN"
      },
      "execution_count": 11,
      "outputs": []
    },
    {
      "cell_type": "code",
      "source": [
        "# 11. Write a Python program that uses a try–except block to handle an error when attempting to access a dictionary key that doesn't exist.\n",
        "my_dict = {\"name\": \"Alice\"}\n",
        "try:\n",
        "    print(my_dict[\"age\"])\n",
        "except KeyError:\n",
        "    print(\"Key does not exist in the dictionary.\")\n"
      ],
      "metadata": {
        "colab": {
          "base_uri": "https://localhost:8080/"
        },
        "id": "u1zdDKOocFPd",
        "outputId": "5acd3074-edbc-42a8-b43d-323cef31b42e"
      },
      "execution_count": 12,
      "outputs": [
        {
          "output_type": "stream",
          "name": "stdout",
          "text": [
            "Key does not exist in the dictionary.\n"
          ]
        }
      ]
    },
    {
      "cell_type": "code",
      "source": [
        "# 12. Write a program that demonstrates using multiple except blocks to handle different types of exceptions.\n",
        "try:\n",
        "    x = int(\"abc\")\n",
        "    y = 10 / 0\n",
        "except ValueError:\n",
        "    print(\"ValueError occurred.\")\n",
        "except ZeroDivisionError:\n",
        "    print(\"ZeroDivisionError occurred.\")\n"
      ],
      "metadata": {
        "colab": {
          "base_uri": "https://localhost:8080/"
        },
        "id": "kqKv14hicFZV",
        "outputId": "d5a7aa26-296d-4762-9e43-b4e3d213306d"
      },
      "execution_count": 13,
      "outputs": [
        {
          "output_type": "stream",
          "name": "stdout",
          "text": [
            "ValueError occurred.\n"
          ]
        }
      ]
    },
    {
      "cell_type": "code",
      "source": [
        "# 13. How would you check if a file exists before attempting to read it in Python?\n",
        "import os\n",
        "\n",
        "if os.path.exists(\"example.txt\"):\n",
        "    with open(\"example.txt\", \"r\") as file:\n",
        "        print(file.read())\n",
        "else:\n",
        "    print(\"File does not exist.\")\n"
      ],
      "metadata": {
        "colab": {
          "base_uri": "https://localhost:8080/"
        },
        "id": "FmkNqI8ScFi9",
        "outputId": "d4fe5bf0-1616-4ec7-d960-2c534a116963"
      },
      "execution_count": 14,
      "outputs": [
        {
          "output_type": "stream",
          "name": "stdout",
          "text": [
            "Hello, this is a sample text.\n",
            "This line is appended.\n",
            "This line is appended.\n"
          ]
        }
      ]
    },
    {
      "cell_type": "code",
      "source": [
        "# 14. Write a program that uses the logging module to log both informational and error messages.\n",
        "import logging\n",
        "\n",
        "logging.basicConfig(filename=\"combined.log\", level=logging.DEBUG)\n",
        "\n",
        "logging.info(\"Program started.\")\n",
        "try:\n",
        "    x = 10 / 0\n",
        "except ZeroDivisionError:\n",
        "    logging.error(\"Division by zero error.\")\n"
      ],
      "metadata": {
        "colab": {
          "base_uri": "https://localhost:8080/"
        },
        "id": "HLd1M-BNcFsf",
        "outputId": "270eda54-dd28-4912-d4a5-3c24d4d923bc"
      },
      "execution_count": 15,
      "outputs": [
        {
          "output_type": "stream",
          "name": "stderr",
          "text": [
            "ERROR:root:Division by zero error.\n"
          ]
        }
      ]
    },
    {
      "cell_type": "code",
      "source": [
        "# 15. Write a Python program that prints the content of a file and handles the case when the file is empty.\n",
        "with open(\"example.txt\", \"r\") as file:\n",
        "    content = file.read()\n",
        "    if content:\n",
        "        print(content)\n",
        "    else:\n",
        "        print(\"The file is empty.\")\n"
      ],
      "metadata": {
        "colab": {
          "base_uri": "https://localhost:8080/"
        },
        "id": "jKy4pW4GcF12",
        "outputId": "0a9f9dbf-650d-4832-fec1-7db101da1310"
      },
      "execution_count": 16,
      "outputs": [
        {
          "output_type": "stream",
          "name": "stdout",
          "text": [
            "Hello, this is a sample text.\n",
            "This line is appended.\n",
            "This line is appended.\n"
          ]
        }
      ]
    },
    {
      "cell_type": "code",
      "source": [
        "# 16. Demonstrate how to use memory profiling to check the memory usage of a small program.\n",
        "\n",
        "import tracemalloc\n",
        "\n",
        "tracemalloc.start()\n",
        "\n",
        "a = [i for i in range(10000)]\n",
        "print(\"Sum:\", sum(a))\n",
        "\n",
        "current, peak = tracemalloc.get_traced_memory()\n",
        "print(f\"Current memory usage: {current / 1024:.2f} KB\")\n",
        "print(f\"Peak memory usage: {peak / 1024:.2f} KB\")\n",
        "\n",
        "tracemalloc.stop()\n"
      ],
      "metadata": {
        "colab": {
          "base_uri": "https://localhost:8080/"
        },
        "id": "ETjRzDw9cF-v",
        "outputId": "09f50bbc-1435-4e12-9542-510a5e388fd5"
      },
      "execution_count": 26,
      "outputs": [
        {
          "output_type": "stream",
          "name": "stdout",
          "text": [
            "Sum: 49995000\n",
            "Current memory usage: 389.34 KB\n",
            "Peak memory usage: 400.23 KB\n"
          ]
        }
      ]
    },
    {
      "cell_type": "code",
      "source": [
        "# 17. Write a Python program to create and write a list of numbers to a file, one number per line.\n",
        "numbers = [1, 2, 3, 4, 5]\n",
        "with open(\"numbers.txt\", \"w\") as file:\n",
        "    for number in numbers:\n",
        "        file.write(f\"{number}\\n\")\n"
      ],
      "metadata": {
        "id": "76FlVYZ9cGHD"
      },
      "execution_count": 18,
      "outputs": []
    },
    {
      "cell_type": "code",
      "source": [
        "# 18. How would you implement a basic logging setup that logs to a file with rotation after 1MB?\n",
        "import logging\n",
        "from logging.handlers import RotatingFileHandler\n",
        "\n",
        "handler = RotatingFileHandler(\"rotating.log\", maxBytes=1024*1024, backupCount=2)\n",
        "logging.basicConfig(handlers=[handler], level=logging.INFO)\n",
        "logging.info(\"This is a test log with rotation.\")\n"
      ],
      "metadata": {
        "id": "3OhRqnuRcGQW"
      },
      "execution_count": 19,
      "outputs": []
    },
    {
      "cell_type": "code",
      "source": [
        "# 19. Write a program that handles both IndexError and KeyError using a try–except block.\n",
        "my_list = [1, 2, 3]\n",
        "my_dict = {\"a\": 1}\n",
        "try:\n",
        "    print(my_list[5])\n",
        "    print(my_dict[\"b\"])\n",
        "except IndexError:\n",
        "    print(\"Index out of range.\")\n",
        "except KeyError:\n",
        "    print(\"Key not found.\")\n"
      ],
      "metadata": {
        "colab": {
          "base_uri": "https://localhost:8080/"
        },
        "id": "c-Wpbx6bcGZg",
        "outputId": "ed01e6e5-c44a-41a0-e7e8-547356a6ed5d"
      },
      "execution_count": 20,
      "outputs": [
        {
          "output_type": "stream",
          "name": "stdout",
          "text": [
            "Index out of range.\n"
          ]
        }
      ]
    },
    {
      "cell_type": "code",
      "source": [
        "# 20. How would you open a file and read its contents using a context manager in Python?\n",
        "with open(\"example.txt\", \"r\") as file:\n",
        "    content = file.read()\n",
        "    print(content)\n"
      ],
      "metadata": {
        "colab": {
          "base_uri": "https://localhost:8080/"
        },
        "id": "-9Mk1o3xcGh0",
        "outputId": "f8947f7f-7576-48bc-df2d-6996f9086e0d"
      },
      "execution_count": 21,
      "outputs": [
        {
          "output_type": "stream",
          "name": "stdout",
          "text": [
            "Hello, this is a sample text.\n",
            "This line is appended.\n",
            "This line is appended.\n"
          ]
        }
      ]
    },
    {
      "cell_type": "code",
      "source": [
        "# 21. Write a Python program that reads a file and prints the number of occurrences of a specific word.\n",
        "word_to_count = \"Python\"\n",
        "count = 0\n",
        "with open(\"example.txt\", \"r\") as file:\n",
        "    for line in file:\n",
        "        count += line.count(word_to_count)\n",
        "print(f\"The word '{word_to_count}' occurs {count} times.\")\n"
      ],
      "metadata": {
        "colab": {
          "base_uri": "https://localhost:8080/"
        },
        "id": "CSMzBOI4cGrV",
        "outputId": "57c50c75-0308-4dea-e1b6-6ac2cf990c96"
      },
      "execution_count": 22,
      "outputs": [
        {
          "output_type": "stream",
          "name": "stdout",
          "text": [
            "The word 'Python' occurs 0 times.\n"
          ]
        }
      ]
    },
    {
      "cell_type": "code",
      "source": [
        "# 22. How can you check if a file is empty before attempting to read its contents?\n",
        "import os\n",
        "\n",
        "if os.stat(\"example.txt\").st_size == 0:\n",
        "    print(\"The file is empty.\")\n",
        "else:\n",
        "    with open(\"example.txt\", \"r\") as file:\n",
        "        print(file.read())\n"
      ],
      "metadata": {
        "colab": {
          "base_uri": "https://localhost:8080/"
        },
        "id": "WDF3HaC_cG0L",
        "outputId": "e4db224d-4995-4e72-f837-3948f1c61201"
      },
      "execution_count": 23,
      "outputs": [
        {
          "output_type": "stream",
          "name": "stdout",
          "text": [
            "Hello, this is a sample text.\n",
            "This line is appended.\n",
            "This line is appended.\n"
          ]
        }
      ]
    },
    {
      "cell_type": "code",
      "source": [
        "# 23. Write a Python program that writes to a log file when an error occurs during file handling.\n",
        "import logging\n",
        "\n",
        "logging.basicConfig(filename=\"file_error.log\", level=logging.ERROR)\n",
        "\n",
        "try:\n",
        "    with open(\"missingfile.txt\", \"r\") as file:\n",
        "        print(file.read())\n",
        "except Exception as e:\n",
        "    logging.error(\"Error occurred while handling file: %s\", e)\n"
      ],
      "metadata": {
        "colab": {
          "base_uri": "https://localhost:8080/"
        },
        "id": "3A2IkwGMcG89",
        "outputId": "c90b67eb-bd62-4e2e-d368-3c08e3fccaed"
      },
      "execution_count": 24,
      "outputs": [
        {
          "output_type": "stream",
          "name": "stderr",
          "text": [
            "ERROR:root:Error occurred while handling file: [Errno 2] No such file or directory: 'missingfile.txt'\n"
          ]
        }
      ]
    }
  ]
}